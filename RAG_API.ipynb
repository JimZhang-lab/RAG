{
 "cells": [
  {
   "cell_type": "code",
   "execution_count": 36,
   "metadata": {},
   "outputs": [],
   "source": [
    "import os\n",
    "from dotenv import load_dotenv\n",
    "load_dotenv()\n",
    "from langchain_openai import ChatOpenAI\n",
    "from langchain.callbacks.streaming_stdout import StreamingStdOutCallbackHandler\n",
    "from langchain.schema import AIMessage,SystemMessage,HumanMessage\n",
    "from langchain.chains.llm import LLMChain\n",
    "\n",
    "\n",
    "# Initialize the chatbot\n",
    "chat = ChatOpenAI(\n",
    "    api_key = os.environ['ZHIPUAI_API_KEY'],\n",
    "    base_url = os.environ['ZHIPUAI_BASE_URL'],\n",
    "    model = os.environ['ZHIPUAI_MODEL_4'],\n",
    "    streaming=True, \n",
    "    callbacks=[StreamingStdOutCallbackHandler()],\n",
    ")\n",
    "\n"
   ]
  },
  {
   "cell_type": "code",
   "execution_count": 37,
   "metadata": {},
   "outputs": [],
   "source": [
    "message = [\n",
    "    SystemMessage(content=\"You are a helpful assistant!\"),\n",
    "    HumanMessage(content=\"Knock knock.\"),\n",
    "    AIMessage(content=\"Who's there?\"),\n",
    "    HumanMessage(content=\"Java.\")\n",
    "]"
   ]
  },
  {
   "cell_type": "code",
   "execution_count": 38,
   "metadata": {},
   "outputs": [
    {
     "name": "stdout",
     "output_type": "stream",
     "text": [
      "Java who?"
     ]
    },
    {
     "data": {
      "text/plain": [
       "AIMessage(content='Java who?', response_metadata={'finish_reason': 'stop', 'model_name': 'glm-4-0520'}, id='run-d4726934-c088-4b45-bb67-943ae7172602-0')"
      ]
     },
     "execution_count": 38,
     "metadata": {},
     "output_type": "execute_result"
    }
   ],
   "source": [
    "res = chat(message)\n",
    "res"
   ]
  },
  {
   "cell_type": "markdown",
   "metadata": {},
   "source": [
    "### 处理 LLM 存在的缺陷\n",
    "\n",
    "    1. 容易出现幻觉\n",
    "    2. 信息滞后\n",
    "    3. 专业领域深度知识缺乏"
   ]
  },
  {
   "cell_type": "code",
   "execution_count": 39,
   "metadata": {},
   "outputs": [
    {
     "name": "stdout",
     "output_type": "stream",
     "text": [
      "JimiAI 模型并不是一个广为人知的模型，至少在我所掌握的知识范围内，它不是一个著名的或者广泛使用的AI模型。可能是因为这个名字是某个特定公司、项目或者研究小组内部使用的名称，而没有在更广泛的AI领域内获得显著的知名度。如果JimiAI模型是某个特定领域或项目中的概念，可能需要更多的上下文信息才能提供准确的信息。如果您能提供更多关于JimiAI模型的背景信息，我会尽力帮助您了解相关内容。"
     ]
    },
    {
     "data": {
      "text/plain": [
       "AIMessage(content='JimiAI 模型并不是一个广为人知的模型，至少在我所掌握的知识范围内，它不是一个著名的或者广泛使用的AI模型。可能是因为这个名字是某个特定公司、项目或者研究小组内部使用的名称，而没有在更广泛的AI领域内获得显著的知名度。如果JimiAI模型是某个特定领域或项目中的概念，可能需要更多的上下文信息才能提供准确的信息。如果您能提供更多关于JimiAI模型的背景信息，我会尽力帮助您了解相关内容。', response_metadata={'finish_reason': 'stop', 'model_name': 'glm-4-0520'}, id='run-88066a3c-86e3-460d-9632-b39e3e3ec9be-0')"
      ]
     },
     "execution_count": 39,
     "metadata": {},
     "output_type": "execute_result"
    }
   ],
   "source": [
    "message = [\n",
    "    SystemMessage(content=\"你是一个专业知识助手\"),\n",
    "    HumanMessage(content=\"你是否知道 JimiAI 模型?\")\n",
    "]\n",
    "\n",
    "res = chat(message)\n",
    "res"
   ]
  },
  {
   "cell_type": "code",
   "execution_count": 40,
   "metadata": {},
   "outputs": [
    {
     "name": "stdout",
     "output_type": "stream",
     "text": [
      "JimiAI 还在研发中,目前还没有什么功能,啥也不是\n",
      "JimiAI 是个一个法律大模型\n",
      "JimiAI 不会做任何事情\n"
     ]
    }
   ],
   "source": [
    "JimiAI_Information = [\n",
    "    \"JimiAI 还在研发中,目前还没有什么功能,啥也不是\",\n",
    "    \"JimiAI 是个一个法律大模型\",\n",
    "    \"JimiAI 不会做任何事情\"\n",
    "]\n",
    "\n",
    "source_knowledge = '\\n'.join(JimiAI_Information)\n",
    "print(source_knowledge)"
   ]
  },
  {
   "cell_type": "code",
   "execution_count": 41,
   "metadata": {},
   "outputs": [],
   "source": [
    "query = \"你知道什么是 JimiAI 吗？\"\n",
    "prompt_template = f\"\"\"基于一下内容回答问题:\n",
    "内容:{source_knowledge}\n",
    "Query:{query}\"\"\""
   ]
  },
  {
   "cell_type": "code",
   "execution_count": 42,
   "metadata": {},
   "outputs": [
    {
     "name": "stdout",
     "output_type": "stream",
     "text": [
      "JimiAI 是一个正在研发中的法律领域大模型。目前，它还没有实现具体的功能，也就是说，它还不能执行任何任务或操作。从您提供的内容来看，JimiAI 还处于开发的早期阶段。"
     ]
    },
    {
     "data": {
      "text/plain": [
       "AIMessage(content='JimiAI 是一个正在研发中的法律领域大模型。目前，它还没有实现具体的功能，也就是说，它还不能执行任何任务或操作。从您提供的内容来看，JimiAI 还处于开发的早期阶段。', response_metadata={'finish_reason': 'stop', 'model_name': 'glm-4-0520'}, id='run-769b4ccd-ddf0-458e-97d8-f422cf64f314-0')"
      ]
     },
     "execution_count": 42,
     "metadata": {},
     "output_type": "execute_result"
    }
   ],
   "source": [
    "prompt = HumanMessage(content=prompt_template)\n",
    "message.append(prompt)\n",
    "res = chat(message)\n",
    "# print(res.content)\n",
    "res"
   ]
  },
  {
   "cell_type": "markdown",
   "metadata": {},
   "source": [
    "### 创建一个RAG对话\n",
    "1. 加载数据\n",
    "\n",
    "    以这篇论文为例：https://arxiv.org/abs/2408.01122<br/>\n",
    "    https://arxiv.org/pdf/2408.01122.pdf"
   ]
  },
  {
   "cell_type": "code",
   "execution_count": 43,
   "metadata": {},
   "outputs": [],
   "source": [
    "# pip install pypdf"
   ]
  },
  {
   "cell_type": "code",
   "execution_count": 44,
   "metadata": {},
   "outputs": [],
   "source": [
    "from langchain.document_loaders import PyPDFLoader,TextLoader\n",
    "\n",
    "# loader = PyPDFLoader(\"./2408.01122v1.pdf\")\n",
    "# pages = loader.load_and_split()\n",
    "\n",
    "loader= TextLoader(\"./data/doupoch1toch7.txt\",encoding='utf8')\n",
    "pages= loader.load_and_split()"
   ]
  },
  {
   "cell_type": "code",
   "execution_count": 45,
   "metadata": {},
   "outputs": [
    {
     "data": {
      "text/plain": [
       "Document(metadata={'source': './data/doupoch1toch7.txt'}, page_content='第一章 陨落的天才\\n\\n    “斗之力，三段！”\\n\\n    望着测验魔石碑上面闪亮得甚至有些刺眼的五个大字，少年面无表情，唇角有着一抹自嘲，紧握的手掌，因为大力，而导致略微尖锐的指甲深深的刺进了掌心之中，带来一阵阵钻心的疼痛…\\n\\n    “萧炎，斗之力，三段！级别：低级！”测验魔石碑之旁，一位中年男子，看了一眼碑上所显示出来的信息，语气漠然的将之公布了出来…\\n\\n    中年男子话刚刚脱口，便是不出意外的在人头汹涌的广场上带起了一阵嘲讽的骚动。\\n\\n    “三段？嘿嘿，果然不出我所料，这个“天才”这一年又是在原地踏步！”\\n\\n    “哎，这废物真是把家族的脸都给丢光了。”\\n\\n    “要不是族长是他的父亲，这种废物，早就被驱赶出家族，任其自生自灭了，哪还有机会待在家族中白吃白喝。”\\n\\n    “唉，昔年那名闻乌坦城的天才少年，如今怎么落魄成这般模样了啊？”\\n\\n    “谁知道呢，或许做了什么亏心事，惹得神灵降怒了吧…”\\n\\n    周围传来的不屑嘲笑以及惋惜轻叹，落在那如木桩待在原地的少年耳中，恍如一根根利刺狠狠的扎在心脏一般，让得少年呼吸微微急促。\\n\\n    少年缓缓抬起头来，露出一张有些清秀的稚嫩脸庞，漆黑的眸子木然的在周围那些嘲讽的同龄人身上扫过，少年嘴角的自嘲，似乎变得更加苦涩了。\\n\\n    “这些人，都如此刻薄势力吗？或许是因为三年前他们曾经在自己面前露出过最谦卑的笑容，所以，如今想要讨还回去吧…”苦涩的一笑，萧炎落寞的转身，安静的回到了队伍的最后一排，孤单的身影，与周围的世界，有些格格不入。\\n\\n    “下一个，萧媚！”\\n\\n    听着测验人的喊声，一名少女快速的人群中跑出，少女刚刚出场，附近的议论声便是小了许多，一双双略微火热的目光，牢牢的锁定着少女的脸颊…\\n\\n    少女年龄不过十四左右，虽然并算不上绝色，不过那张稚气未脱的小脸，却是蕴含着淡淡的妩媚，清纯与妩媚，矛盾的集合，让得她成功的成为了全场瞩目的焦点…\\n\\n    少女快步上前，小手轻车熟路的触摸着漆黑的魔石碑，然后缓缓闭上眼睛…\\n\\n    在少女闭眼片刻之后，漆黑的魔石碑之上再次亮起了光芒…\\n\\n    “斗之气：七段！”\\n\\n    “萧媚，斗之气：七段！级别:高级！”\\n\\n    “耶！”听着测验员所喊出的成绩，少女脸颊扬起了得意的笑容…\\n\\n    “啧啧，七段斗之气，真了不起，按这进度，恐怕顶多只需要三年时间，她就能称为一名真正的斗者了吧…”\\n\\n    “不愧是家族中种子级别的人物啊…”\\n\\n    听着人群中传来的一阵阵羡慕声，少女脸颊上的笑容更是多了几分，虚荣心，这是很多女孩都无法抗拒的诱惑…\\n\\n    与平日里的几个姐妹互相笑谈着，萧媚的视线，忽然的透过周围的人群，停在了人群外的那一道孤单身影上…\\n\\n    皱眉思虑了瞬间，萧媚还是打消了过去的念头，现在的两人，已经不在同一个阶层之上，以萧炎最近几年的表现，成年后，顶多只能作为家族中的下层人员，而天赋优秀的她，则将会成为家族重点培养的强者，前途可以说是不可限量。\\n\\n    “唉…”莫名的轻叹了一口气，萧媚脑中忽然浮现出三年前那意气风发的少年，四岁练气，十岁拥有九段斗之气，十一岁突破十段斗之气，成功凝聚斗之气旋，一跃成为家族百年之内最年轻的斗者！\\n\\n    当初的少年，自信而且潜力无可估量，不知让得多少少女对其春心荡漾，当然，这也包括以前的萧媚。\\n\\n    然而天才的道路，貌似总是曲折的，三年之前，这名声望达到巅峰的天才少年，却是突兀的接受到了有生以来最残酷的打击，不仅辛辛苦苦修炼十数载方才凝聚的斗之气旋，一夜之间，化为乌有，而且体内的斗之气，也是随着时间的流逝，变得诡异的越来越少。\\n\\n    斗之气消失的直接结果，便是导致其实力不断的后退。\\n\\n    从天才的神坛，一夜跌落到了连普通人都不如的地步，这种打击，让得少年从此失魂落魄，天才之名，也是逐渐的被不屑与嘲讽所替代。\\n\\n    站的越高，摔得越狠，这次的跌落，或许就再也没有爬起的机会。\\n\\n    “下一个，萧薰儿！”\\n\\n    喧闹的人群中，测试员的声音，再次响了起来。\\n\\n    随着这有些清雅的名字响起，人群忽然的安静了下来，所有的视线，豁然转移。\\n\\n    在众人视线汇聚之处，一位身着紫色衣裙的少女，正淡雅的站立，平静的稚嫩俏脸，并未因为众人的注目而改变分毫。\\n\\n    少女清冷淡然的气质，犹如清莲初绽，小小年纪，却已初具脱俗气质，难以想象，日后若是长大，少女将会如何的倾国倾城…\\n\\n    这名紫裙少女，论起美貌与气质来，比先前的萧媚，无疑还要更胜上几分，也难怪在场的众人都是这般动作。\\n\\n    莲步微移，名为萧薰儿的少女行到魔石碑之前，小手伸出，镶着黑金丝的紫袖滑落而下，露出一截雪白娇嫩的皓腕，然后轻触着石碑…\\n\\n    微微沉静，石碑之上，刺眼的光芒再次绽放。\\n\\n    “斗之气：九段！级别：高级！”\\n\\n    望着石碑之上的字体，场中陷入了一阵寂静。\\n\\n    “…竟然到九段了，真是恐怖！家族中年轻一辈的第一人，恐怕非薰儿小姐莫属了。”寂静过后，周围的少年，都是不由自主的咽了一口唾沫，眼神充满敬畏…\\n\\n    斗之气，每位斗者的必经之路，初阶斗之气分一至十段，当体内斗之气到达十段之时，便能凝聚斗之气旋，成为一名受人尊重的斗者！\\n\\n    人群中，萧媚皱着浅眉盯着石碑前的紫裙少女，脸颊上闪过一抹嫉妒…\\n\\n    望着石碑上的信息，一旁的中年测验员漠然的脸庞上竟然也是罕见的露出了一丝笑意，对着少女略微恭声道：“薰儿小姐，半年之后，你应该便能凝聚斗气之旋，如果你成功的话，那么以十四岁年龄成为一名真正的斗者，你是萧家百年内的第二人！”\\n\\n    是的，第二人，那位第一人，便是褪去了天才光环的萧炎。\\n\\n    “谢谢。”少女微微点了点头，平淡的小脸并未因为他的夸奖而出现喜悦，安静的回转过身，然后在众人炽热的注目中，缓缓的行到了人群最后面的那颓废少年面前…\\n\\n    “萧炎哥哥。”在经过少年身旁时，少女顿下了脚步，对着萧炎恭敬的弯了弯腰，美丽的俏脸上，居然露出了让周围少女为之嫉妒的清雅笑容。\\n\\n    “我现在还有资格让你怎么叫么?”望着面前这颗已经成长为家族中最璀璨的明珠，萧炎苦涩的道，她是在自己落魄后，极为少数还对自己依旧保持着尊敬的人。\\n\\n    “萧炎哥哥，以前你曾经与薰儿说过，要能放下，才能拿起，提放自如，是自在人！”萧薰儿微笑着柔声道，略微稚嫩的嗓音，却是暖人心肺。\\n\\n    “呵呵，自在人？我也只会说而已，你看我现在的模样，象自在人吗？而且…这世界，本来就不属于我。”萧炎自嘲的一笑，意兴阑珊的道。\\n\\n    面对着萧炎的颓废，萧薰儿纤细的眉毛微微皱了皱，认真的道：“萧炎哥哥，虽然并不知道你究竟是怎么回事，不过，薰儿相信，你会重新站起来，取回属于你的荣耀与尊严…”话到此处，微顿了顿，少女白皙的俏脸，头一次露出淡淡的绯红：“当年的萧炎哥哥，的确很吸引人…”\\n\\n    “呵呵…”面对着少女毫不掩饰的坦率话语，少年尴尬的笑了一声，可却未再说什么，人不风liu枉少年，可现在的他，实在没这资格与心情，落寞的回转过身，对着广场之外缓缓行去…\\n\\n    站在原地望着少年那恍如与世隔绝的孤独背影，萧薰儿踌躇了一会，然后在身后一干嫉妒的狼嚎声中，快步追了上去，与少年并肩而行…\\n\\n    （土豆新书开张，如果觉得满意，请各位新老书友点击收藏，收下本书，土豆感激不尽^_^,另外，别忘记票票哦，再有，谢谢一路跟来的剑圣书友，爱死你们了，不管新书是否还能得到你们的继续支持，不过土豆依旧要说声谢谢，还是以前的那句话，没有你们的支持，去年五月，剑圣，便将会太监，那时候的大地震，让身在四川的土豆到处躲命，根本没时间码字更新，可因为大家的支持，土豆依然未曾断更过，晚上去网吧上网还被怕死的网管赶出来，鄙视一下那贪生怕死的货^_^。\\n\\n    有了你们的支持，才使得剑圣走过风雨一路^_^书群少有管理，土豆在这里多谢几位管理，剑圣的最后几天更新缓慢，请大家原谅，毕竟新书太耗神了，不过两天之内，剑圣便将完美结局，不会留有任何烂尾之嫌！）\\n\\n第二章 斗气大陆\\n\\n    月如银盘，漫天繁星。\\n\\n    山崖之颠，萧炎斜躺在草地之上，嘴中叼中一根青草，微微嚼动，任由那淡淡的苦涩在嘴中弥漫开来…\\n\\n    举起有些白皙的手掌，挡在眼前，目光透过手指缝隙，遥望着天空上那轮巨大的银月。\\n\\n    “唉…”想起下午的测试，萧炎轻叹了一口气，懒懒的抽回手掌，双手枕着脑袋，眼神有些恍惚…\\n\\n    “十五年了呢…”低低的自喃声，忽然毫无边际的从少年嘴中轻吐了出来。\\n\\n    在萧炎的心中，有一个仅有他自己知道的秘密：他并不是这个世界的人，或者说，萧炎的灵魂，并不属于这个世界，他来自一个名叫地球的蔚蓝星球，至于为什么会来到这里，这种离奇经过，他也无法解释，不过在生活了一段时间之后，他还是后知后觉的明白了过来：他穿越了！\\n\\n    随着年龄的增长，对这块大陆，萧炎也是有了些模糊的了解…\\n\\n    大陆名为斗气大陆，大陆上并没有小说中常见的各系魔法，而斗气，才是大陆的唯一主调！\\n\\n    在这片大陆上，斗气的修炼，几乎已经在无数代人的努力之下，发展到了巅峰地步，而且由于斗气的不断繁衍，最后甚至扩散到了民间之中，这也导致，斗气，与人类的日常生活，变得息息相关，如此，斗气在大陆中的重要性，更是变得无可替代！\\n\\n    因为斗气的极端繁衍，同时也导致从这条主线中分化出了无数条斗气修炼之法，所谓手有长短，分化出来的斗气修炼之法，自然也是有强有弱。\\n\\n    经过归纳统计，斗气大陆将斗气功法的等级，由高到低分为四阶十二级：天.地.玄.黄！')"
      ]
     },
     "execution_count": 45,
     "metadata": {},
     "output_type": "execute_result"
    }
   ],
   "source": [
    "pages[0]"
   ]
  },
  {
   "cell_type": "markdown",
   "metadata": {},
   "source": [
    "2. 知识切片，将文档分割成均匀的块，每个块是一段原始文本。"
   ]
  },
  {
   "cell_type": "code",
   "execution_count": 46,
   "metadata": {},
   "outputs": [
    {
     "data": {
      "text/plain": [
       "59"
      ]
     },
     "execution_count": 46,
     "metadata": {},
     "output_type": "execute_result"
    }
   ],
   "source": [
    "from langchain.text_splitter import RecursiveCharacterTextSplitter,CharacterTextSplitter\n",
    "'''\n",
    "* RecursiveCharacterTextSplitter 递归字符文本分割\n",
    "RecursiveCharacterTextSplitter 将按不同的字符递归地分割(按照这个优先级[\"\\n\\n\", \"\\n\", \" \", \"\"])，\n",
    "    这样就能尽量把所有和语义相关的内容尽可能长时间地保留在同一位置\n",
    "RecursiveCharacterTextSplitter需要关注的是4个参数：\n",
    "\n",
    "* separators - 分隔符字符串数组\n",
    "* chunk_size - 每个文档的字符数量限制\n",
    "* chunk_overlap - 两份文档重叠区域的长度\n",
    "* length_function - 长度计算函数\n",
    "'''\n",
    "\n",
    "text_splitter = RecursiveCharacterTextSplitter(\n",
    "    chunk_size=450,\n",
    "    chunk_overlap=50,\n",
    "    length_function=len,\n",
    "    is_separator_regex=False,\n",
    ")\n",
    "# text_splitter = CharacterTextSplitter(\n",
    "#     separator = '\\n\\n\\n',\n",
    "#     chunk_size=450,\n",
    "#     chunk_overlap=50,\n",
    "#     length_function=len,\n",
    "#     is_separator_regex=False,\n",
    "# )\n",
    "docs = text_splitter.split_documents(pages)\n",
    "len(docs)"
   ]
  },
  {
   "cell_type": "code",
   "execution_count": 47,
   "metadata": {},
   "outputs": [],
   "source": [
    "from __future__ import annotations\n",
    "\n",
    "import logging\n",
    "from typing import Dict, List, Any\n",
    "\n",
    "from langchain.embeddings.base import Embeddings\n",
    "from langchain.pydantic_v1 import BaseModel, root_validator\n",
    "\n",
    "logger = logging.getLogger(__name__)\n",
    "\n",
    "class ZhipuAIEmbeddings(BaseModel, Embeddings):\n",
    "    \"\"\"`Zhipuai Embeddings` embedding models.\"\"\"\n",
    "\n",
    "    client: Any\n",
    "    \"\"\"`zhipuai.ZhipuAI\"\"\"\n",
    "\n",
    "    @root_validator()\n",
    "    def validate_environment(cls, values: Dict) -> Dict:\n",
    "        \"\"\"\n",
    "        实例化ZhipuAI为values[\"client\"]\n",
    "\n",
    "        Args:\n",
    "\n",
    "            values (Dict): 包含配置信息的字典，必须包含 client 的字段.\n",
    "        Returns:\n",
    "\n",
    "            values (Dict): 包含配置信息的字典。如果环境中有zhipuai库，则将返回实例化的ZhipuAI类；否则将报错 'ModuleNotFoundError: No module named 'zhipuai''.\n",
    "        \"\"\"\n",
    "        from zhipuai import ZhipuAI\n",
    "        values[\"client\"] = ZhipuAI()\n",
    "        return values\n",
    "    \n",
    "    def _embed(self, texts: str) -> List[float]:\n",
    "        embeddings = self.client.embeddings.create(\n",
    "            model=\"embedding-3\",\n",
    "            input=texts\n",
    "        )\n",
    "        return embeddings.data[0].embedding\n",
    "    \n",
    "\n",
    "    def embed_documents(self, texts: List[str]) -> List[List[float]]:\n",
    "        \"\"\"\n",
    "        生成输入文本列表的 embedding.\n",
    "        Args:\n",
    "            texts (List[str]): 要生成 embedding 的文本列表.\n",
    "\n",
    "        Returns:\n",
    "            List[List[float]]: 输入列表中每个文档的 embedding 列表。每个 embedding 都表示为一个浮点值列表。\n",
    "        \"\"\"\n",
    "        return [self._embed(text) for text in texts]\n",
    "    \n",
    "    \n",
    "    def embed_query(self, text: str) -> List[float]:\n",
    "        \"\"\"\n",
    "        生成输入文本的 embedding.\n",
    "\n",
    "        Args:\n",
    "            texts (str): 要生成 embedding 的文本.\n",
    "\n",
    "        Return:\n",
    "            embeddings (List[float]): 输入文本的 embedding，一个浮点数值列表.\n",
    "        \"\"\"\n",
    "        resp = self.embed_documents([text])\n",
    "        return resp[0]\n",
    "\n",
    "\n",
    "\n",
    "    async def aembed_documents(self, texts: List[str]) -> List[List[float]]:\n",
    "        \"\"\"Asynchronous Embed search docs.\"\"\"\n",
    "        raise NotImplementedError(\"Please use `embed_documents`. Official does not support asynchronous requests\")\n",
    "\n",
    "    async def aembed_query(self, text: str) -> List[float]:\n",
    "        \"\"\"Asynchronous Embed query text.\"\"\"\n",
    "        raise NotImplementedError(\"Please use `aembed_query`. Official does not support asynchronous requests\")"
   ]
  },
  {
   "cell_type": "markdown",
   "metadata": {},
   "source": [
    "3. 利用 embedding 模型对每个文本片段进行向量化，并存到向量数据库中。"
   ]
  },
  {
   "cell_type": "code",
   "execution_count": 48,
   "metadata": {},
   "outputs": [],
   "source": [
    "from langchain.embeddings.openai import OpenAIEmbeddings\n",
    "# from langchain.embeddings import QianfanEmbeddingsEndpoint\n",
    "# from langchain.embeddings.xinference import XinferenceEmbeddings\n",
    "# from langchain.embeddings.base import Embeddings\n",
    "import os\n",
    "import chromadb\n",
    "from chromadb.utils import embedding_functions\n",
    "from langchain.vectorstores import Chroma\n",
    "from langchain.embeddings import HuggingFaceEmbeddings\n",
    "# from zhipuembedding import ZhipuAIEmbeddings\n",
    "\n",
    "# bge_embeddings = embedding_functions.OpenAIEmbeddingFunction(\n",
    "#     api_base=os.environ[\"ZHIPUAI_API_URL\"],\n",
    "#     api_key=os.environ[\"ZHIPUAI_API_KEY\"],\n",
    "#     model_name= \"embedding-3\"\n",
    "# )\n",
    "embedding_model = ZhipuAIEmbeddings()\n",
    "\n",
    "# document_ebeddings = []\n",
    "# for text in docs:\n",
    "#     document_ebeddings.append(bge_embeddings(text))\n",
    "\n",
    "#测试，如有需要，删除数据库里的实验用cellection，清除之前的实验内容\n",
    "dbclient = chromadb.PersistentClient(path='./chorma_test_db')\n",
    "dbclient.delete_collection(name=\"zhipu_embedding\")\n",
    "\n",
    "# dbclient = chromadb.PersistentClient(path='./chorma_test_db')\n",
    "vector_store = Chroma.from_documents(documents=docs, embedding=embedding_model,persist_directory=\"./chorma_test_db\", collection_name=\"zhipu_embedding\")\n"
   ]
  },
  {
   "cell_type": "code",
   "execution_count": 49,
   "metadata": {},
   "outputs": [],
   "source": [
    "#测试，如有需要，删除数据库里的实验用cellection，清除之前的实验内容\n",
    "# dbclient = chromadb.PersistentClient(path='./chorma_test_db')\n",
    "# dbclient.delete_collection(name=\"zhipu_embedding\")"
   ]
  },
  {
   "cell_type": "code",
   "execution_count": 50,
   "metadata": {},
   "outputs": [
    {
     "name": "stdout",
     "output_type": "stream",
     "text": [
      "向量库中存储的数量：59\n"
     ]
    }
   ],
   "source": [
    "vector_store.persist()\n",
    "print(f\"向量库中存储的数量：{vector_store._collection.count()}\")"
   ]
  },
  {
   "cell_type": "code",
   "execution_count": 51,
   "metadata": {},
   "outputs": [],
   "source": [
    "query = \"萧炎是谁?\"\n",
    "'''\n",
    "在向量存储中进行相似度搜索。\n",
    "query 参数是输入的查询字符串，即 \"What can CFBench do?\"。\n",
    "k=2 参数指定了返回结果的数量，这里设置为2，表示希望返回最相似的2个结果。\n",
    "'''\n",
    "result =  vector_store.similarity_search(query, k=2)"
   ]
  },
  {
   "cell_type": "code",
   "execution_count": 52,
   "metadata": {},
   "outputs": [
    {
     "data": {
      "text/plain": [
       "[Document(metadata={'source': './data/doupoch1toch7.txt'}, page_content='“他们是云岚宗的人？”萧炎惊讶的低声道。\\n\\n    虽然并没有外出历练，不过萧炎在一些书籍中却看过有关这剑派的资料，萧家所在的城市名为乌坦城，乌坦城隶属于加玛帝国，虽然此城因为背靠魔兽山脉的地利，而跻身进入帝国的大城市之列，不过也仅仅只是居于末座。\\n\\n    萧炎的家族，在乌坦城颇有份量，不过却也并不是唯一，城市中，还有另外两大家族实力与萧家相差无几，三方彼此明争暗斗了几十年，也未曾分出胜负…\\n\\n    如果说萧家是乌坦城的一霸，那么萧炎口中所说的云岚宗，或许便应该说是整个加玛帝国的一霸！这之间的差距，犹如鸿沟，也难怪连平日严肃的父亲，在言语上很是敬畏。\\n\\n    “他们来我们家族做什么？”萧炎有些疑惑的低声询问道。\\n\\n    移动的纤细指尖微微一顿，熏儿沉默了一会，方才道：“或许和萧炎哥哥有关…”\\n\\n    “我？我可没和他们有过什么交集啊？”闻言，萧炎一怔，摇头否认。\\n\\n    “知道那少女叫什么名字吗？”熏儿淡淡的扫了一眼对面的娇贵少女。'),\n",
       " Document(metadata={'source': './data/doupoch1toch7.txt'}, page_content='“萧炎，这里哪有你说话的份？给我闭嘴！”脸色一沉，一位长老怒喝道。\\n\\n    “萧炎，退下去吧，我知道你心里不好受，不过这里我们自会做主！”另外一位年龄偏大的老者，也是淡淡的道。\\n\\n    “三位长老，如果今天他们悔婚的对象是你们的儿子或者孙子，你们还会这么说么？”萧炎缓缓站起身子，嘴角噙着嘲讽，笑问道，三位长老对他的不屑是显而易见，所以他也不必在他们面前装怂。\\n\\n    “你…”闻言，三位长老一滞，脾气暴躁的三长老，更是眼睛一瞪，斗气缓缓附体。\\n\\n    “三位长老，萧炎哥哥说得并没有错，这事，他是当事人，你们还是不要跟着参合吧。”少女轻灵的嗓音，在厅中淡然的响起。\\n\\n    听着少女的轻声，三位长老的气焰顿时消了下来，无奈的对视了一眼，旋即点了点头。\\n\\n    望着萎靡的三位长老，萧炎回转过头，深深的凝视了一眼笑吟吟的萧薰儿，你这妮子，究竟是什么身份？怎么让得三位长老如此忌惮…')]"
      ]
     },
     "execution_count": 52,
     "metadata": {},
     "output_type": "execute_result"
    }
   ],
   "source": [
    "result"
   ]
  },
  {
   "cell_type": "markdown",
   "metadata": {},
   "source": [
    "5. 原始 query 与检索得到的文本组合起来输入到语言模型，得到最终回答。"
   ]
  },
  {
   "cell_type": "code",
   "execution_count": 53,
   "metadata": {},
   "outputs": [],
   "source": [
    "def augment_prompt(query: str):\n",
    "    result = vector_store.similarity_search(query,k=10)\n",
    "    source_knowledge = \"\\n\".join([x.page_content for x in result])\n",
    "    augmented_prompt = f\"\"\"基于一下内容回答问题:\n",
    "    内容:{source_knowledge}\n",
    "    query:{query}\n",
    "    \"\"\"\n",
    "    return augmented_prompt"
   ]
  },
  {
   "cell_type": "code",
   "execution_count": 54,
   "metadata": {},
   "outputs": [
    {
     "name": "stdout",
     "output_type": "stream",
     "text": [
      "基于一下内容回答问题:\n",
      "    内容:“他们是云岚宗的人？”萧炎惊讶的低声道。\n",
      "\n",
      "    虽然并没有外出历练，不过萧炎在一些书籍中却看过有关这剑派的资料，萧家所在的城市名为乌坦城，乌坦城隶属于加玛帝国，虽然此城因为背靠魔兽山脉的地利，而跻身进入帝国的大城市之列，不过也仅仅只是居于末座。\n",
      "\n",
      "    萧炎的家族，在乌坦城颇有份量，不过却也并不是唯一，城市中，还有另外两大家族实力与萧家相差无几，三方彼此明争暗斗了几十年，也未曾分出胜负…\n",
      "\n",
      "    如果说萧家是乌坦城的一霸，那么萧炎口中所说的云岚宗，或许便应该说是整个加玛帝国的一霸！这之间的差距，犹如鸿沟，也难怪连平日严肃的父亲，在言语上很是敬畏。\n",
      "\n",
      "    “他们来我们家族做什么？”萧炎有些疑惑的低声询问道。\n",
      "\n",
      "    移动的纤细指尖微微一顿，熏儿沉默了一会，方才道：“或许和萧炎哥哥有关…”\n",
      "\n",
      "    “我？我可没和他们有过什么交集啊？”闻言，萧炎一怔，摇头否认。\n",
      "\n",
      "    “知道那少女叫什么名字吗？”熏儿淡淡的扫了一眼对面的娇贵少女。\n",
      "“萧炎，这里哪有你说话的份？给我闭嘴！”脸色一沉，一位长老怒喝道。\n",
      "\n",
      "    “萧炎，退下去吧，我知道你心里不好受，不过这里我们自会做主！”另外一位年龄偏大的老者，也是淡淡的道。\n",
      "\n",
      "    “三位长老，如果今天他们悔婚的对象是你们的儿子或者孙子，你们还会这么说么？”萧炎缓缓站起身子，嘴角噙着嘲讽，笑问道，三位长老对他的不屑是显而易见，所以他也不必在他们面前装怂。\n",
      "\n",
      "    “你…”闻言，三位长老一滞，脾气暴躁的三长老，更是眼睛一瞪，斗气缓缓附体。\n",
      "\n",
      "    “三位长老，萧炎哥哥说得并没有错，这事，他是当事人，你们还是不要跟着参合吧。”少女轻灵的嗓音，在厅中淡然的响起。\n",
      "\n",
      "    听着少女的轻声，三位长老的气焰顿时消了下来，无奈的对视了一眼，旋即点了点头。\n",
      "\n",
      "    望着萎靡的三位长老，萧炎回转过头，深深的凝视了一眼笑吟吟的萧薰儿，你这妮子，究竟是什么身份？怎么让得三位长老如此忌惮…\n",
      "“在熏儿四岁到六岁的时候，每天晚上都有人溜进我的房间，然后用一种很是笨拙的手法以及并不雄厚的斗之气，温养我的骨骼与经脉，每次都要弄得自己大汗淋漓后，方才疲惫离开，萧炎哥哥，你说，他会是谁？”熏儿沉默了半晌，忽然的偏过头，对着萧炎嫣然一笑，少女独有的风情，让得周围的少年眼睛有些放光。\n",
      "\n",
      "    “咳…我，我怎么知道？那么小，我们都还在地上爬呢，我哪知道。”心头猛的一跳，萧炎讪笑了两声，旋即有些心虚的将目光转向大厅内。\n",
      "\n",
      "    “嘻嘻…”望着萧炎的反映，萧熏儿小嘴泛起了柔和的笑意，目光转移到书籍之上，口中似乎是自喃般的淡淡道：“虽然知道他是好意，可熏儿不管怎么说也是女孩子吧？哪有偷偷摸女孩子身体的道理，若是熏儿寻出了那人，哼…”\n",
      "\n",
      "    嘴角裂了裂，萧炎心头有些心虚，眼观鼻，鼻观心，不言不语…\n",
      "\n",
      "\n",
      "第四章 云岚宗\n",
      "面对着萧炎的颓废，萧薰儿纤细的眉毛微微皱了皱，认真的道：“萧炎哥哥，虽然并不知道你究竟是怎么回事，不过，薰儿相信，你会重新站起来，取回属于你的荣耀与尊严…”话到此处，微顿了顿，少女白皙的俏脸，头一次露出淡淡的绯红：“当年的萧炎哥哥，的确很吸引人…”\n",
      "\n",
      "    “呵呵…”面对着少女毫不掩饰的坦率话语，少年尴尬的笑了一声，可却未再说什么，人不风liu枉少年，可现在的他，实在没这资格与心情，落寞的回转过身，对着广场之外缓缓行去…\n",
      "\n",
      "    站在原地望着少年那恍如与世隔绝的孤独背影，萧薰儿踌躇了一会，然后在身后一干嫉妒的狼嚎声中，快步追了上去，与少年并肩而行…\n",
      "是的，第二人，那位第一人，便是褪去了天才光环的萧炎。\n",
      "\n",
      "    “谢谢。”少女微微点了点头，平淡的小脸并未因为他的夸奖而出现喜悦，安静的回转过身，然后在众人炽热的注目中，缓缓的行到了人群最后面的那颓废少年面前…\n",
      "\n",
      "    “萧炎哥哥。”在经过少年身旁时，少女顿下了脚步，对着萧炎恭敬的弯了弯腰，美丽的俏脸上，居然露出了让周围少女为之嫉妒的清雅笑容。\n",
      "\n",
      "    “我现在还有资格让你怎么叫么?”望着面前这颗已经成长为家族中最璀璨的明珠，萧炎苦涩的道，她是在自己落魄后，极为少数还对自己依旧保持着尊敬的人。\n",
      "\n",
      "    “萧炎哥哥，以前你曾经与薰儿说过，要能放下，才能拿起，提放自如，是自在人！”萧薰儿微笑着柔声道，略微稚嫩的嗓音，却是暖人心肺。\n",
      "\n",
      "    “呵呵，自在人？我也只会说而已，你看我现在的模样，象自在人吗？而且…这世界，本来就不属于我。”萧炎自嘲的一笑，意兴阑珊的道。\n",
      "“呵呵，炎儿，这么晚了，怎么还待在这上面呢？”树林中，在静了片刻后，传出男子的关切笑声。\n",
      "\n",
      "    树枝一阵摇摆，一位中年人跃了出来，脸庞上带着笑意，凝视着自己那站在月光下的儿子。\n",
      "\n",
      "    中年人身着华贵的灰色衣衫，龙行虎步间颇有几分威严，脸上一对粗眉更是为其添了几分豪气，他便是萧家现任族长，同时也是萧炎的父亲，五星大斗师，萧战！\n",
      "\n",
      "    “父亲，您不也还没休息么？”望着中年男子，萧炎脸庞上的笑容更浓了一分，虽然自己有着前世的记忆，不过自出生以来，面前这位父亲便是对自己百般宠爱，在自己落魄之后，宠爱不减反增，如此行径，却是让得萧炎甘心叫他一声父亲。\n",
      "\n",
      "    “炎儿，还在想下午测验的事呢？”大步上前，萧战笑道。\n",
      "\n",
      "    “呵呵，有什么好想的，意料之中而已。”萧炎少年老成的摇了摇头，笑容却是有些勉强。\n",
      "\n",
      "    “唉…”望着萧炎那依旧有些稚嫩的清秀脸庞，萧战叹了一口气，沉默了片刻，忽然道：“炎儿，你十五岁了吧？”\n",
      "\n",
      "    “嗯，父亲。”\n",
      "“萧炎哥哥，坐这里吧！”少女淡淡的笑声，忽然的在大厅中响了起来。\n",
      "\n",
      "    三位长老微愣，目光移向角落中安静的萧熏儿，嘴巴蠕了蠕，竟然是都没有敢再说话…\n",
      "\n",
      "    在大厅的角落处，萧熏儿微笑着合拢了手中厚厚的书籍，气质淡雅从容，对着萧炎可爱的眨了眨眼睛。\n",
      "\n",
      "    望着萧熏儿那微笑的小脸，萧炎迟疑了一下，摸着鼻子点了点头，然后在众多少年那嫉妒的目光中，走了过去，挨着她坐了下去。\n",
      "\n",
      "    “你又帮我解围了。”嗅着身旁少女的淡淡体香，萧炎低笑道。\n",
      "\n",
      "    萧熏儿浅浅一笑，小脸上露出可爱的小酒窝，纤细的指尖再次翻开手中那本古朴的书籍，小小年纪，却有一种知性的美感，眨动着修长的睫毛在书中徘徊了片刻，忽然有些幽幽的道：“萧炎哥哥有三年没和熏儿单独坐一起了吧？”\n",
      "\n",
      "    “呃…现在熏儿可是家族中的天才了，想要朋友还不简单么？”瞧得少女有些幽怨的光洁侧脸，萧炎干笑道。\n",
      "“后悔？”嗤笑了一声，萧炎脸庞满是自嘲：“现在的自己，有那资格？”\n",
      "\n",
      "    “熏儿，你对他们似乎知道得很清楚？你先前所说的一些东西中，或许就是连我父亲，也不知道吧？你是如何得知的？”轻摆了摆手，萧炎话音忽然一转，问道。\n",
      "\n",
      "    熏儿一怔，却是含笑不语。\n",
      "\n",
      "    望着熏儿的躲避态势，萧炎只得无奈的撇了撇嘴，熏儿虽然也姓萧，不过与他却没有半点血缘关系，而且熏儿的父母，萧炎也从未见过，每当他询问自己的父亲时，满脸笑容的父亲便会立刻闭口不语，显然对熏儿的父母很是忌讳，甚至…惧怕！\n",
      "\n",
      "    在萧炎心中，熏儿的身份，极为神秘，可不管他如何侧面询问，这小妮子都会机灵的以沉默应对，让得萧炎就算有计也是无处可施。\n",
      "\n",
      "    “唉，算了，懒得管你，不说就不说吧…”摇了摇头，萧炎的脸色忽然阴沉了下来，因为对面那在纳兰嫣然不断示意的眼色下，那位老者，终于是站起来了…\n",
      "\n",
      "    “呵呵，借助着云岚宗向父亲施威么？这纳兰嫣然，真是好手段呐…”萧炎的心头，响起了愤怒的冷笑。\n",
      "\n",
      "\n",
      "第五章 聚气散\n",
      "“父亲，三位长老！”快步上前，对着上位的萧战四人恭敬的行了一礼。\n",
      "\n",
      "    “呵呵，炎儿，来了啊，快坐下吧。”望着萧炎的到来，萧战止住了与客人的笑谈，冲着他点了点头，挥手道。\n",
      "\n",
      "    微笑点头，萧炎只当做没有看见一旁三位长老射来的不耐以及淡淡的不屑，回头在厅中扫了扫，却是愕然发现，竟然没自己的位置…\n",
      "\n",
      "    “唉，自己在这家族中的地位，看来还真是越来越低啊，往日倒好，现在竟然是当着客人的面给我难堪，这三个老不死的啊…”心头自嘲的一笑，萧炎暗自摇头。\n",
      "\n",
      "    望着站在原地不动的萧炎，周围的族中年轻人，都是忍不住的发出讥笑之声，显然很是喜欢看他出丑的模样。\n",
      "\n",
      "    此时，上面的萧战也是发现了萧炎的尴尬，脸庞上闪过一抹怒气，对着身旁的老者皱眉道：“二长老，你…”\n",
      "\n",
      "    “咳，实在抱歉，竟然把三少爷搞忘记了，呵呵，我马上叫人准备!”被萧战瞪住的黄袍老者，淡淡的笑了笑，“自责”的拍了拍额头，只是其眼中的那抹讥讽，却并未有多少遮掩。\n",
      "举起有些白皙的手掌，挡在眼前，目光透过手指缝隙，遥望着天空上那轮巨大的银月。\n",
      "\n",
      "    “唉…”想起下午的测试，萧炎轻叹了一口气，懒懒的抽回手掌，双手枕着脑袋，眼神有些恍惚…\n",
      "\n",
      "    “十五年了呢…”低低的自喃声，忽然毫无边际的从少年嘴中轻吐了出来。\n",
      "\n",
      "    在萧炎的心中，有一个仅有他自己知道的秘密：他并不是这个世界的人，或者说，萧炎的灵魂，并不属于这个世界，他来自一个名叫地球的蔚蓝星球，至于为什么会来到这里，这种离奇经过，他也无法解释，不过在生活了一段时间之后，他还是后知后觉的明白了过来：他穿越了！\n",
      "\n",
      "    随着年龄的增长，对这块大陆，萧炎也是有了些模糊的了解…\n",
      "\n",
      "    大陆名为斗气大陆，大陆上并没有小说中常见的各系魔法，而斗气，才是大陆的唯一主调！\n",
      "    query:萧炎是谁?\n",
      "    \n"
     ]
    }
   ],
   "source": [
    "print(augment_prompt(query))"
   ]
  },
  {
   "cell_type": "code",
   "execution_count": 55,
   "metadata": {},
   "outputs": [
    {
     "name": "stdout",
     "output_type": "stream",
     "text": [
      "萧炎是小说《斗破苍穹》中的主角，他是一个天赋异禀的青年，出生在乌坦城的萧家，家族在城中颇有份量。萧炎在小说的开始是一个拥有斗气天赋的少年，但后来因为某种原因斗气修为不进反退，被家族视为废物。然而，他凭借坚持不懈的努力和毅力，逐渐成长为一位强大的斗者，并在斗气大陆上展开了一系列的冒险和战斗。"
     ]
    },
    {
     "data": {
      "text/plain": [
       "AIMessage(content='萧炎是小说《斗破苍穹》中的主角，他是一个天赋异禀的青年，出生在乌坦城的萧家，家族在城中颇有份量。萧炎在小说的开始是一个拥有斗气天赋的少年，但后来因为某种原因斗气修为不进反退，被家族视为废物。然而，他凭借坚持不懈的努力和毅力，逐渐成长为一位强大的斗者，并在斗气大陆上展开了一系列的冒险和战斗。', response_metadata={'finish_reason': 'stop', 'model_name': 'glm-4-0520'}, id='run-01f6edfb-a2c3-4dfe-b2a8-304f520e0882-0')"
      ]
     },
     "execution_count": 55,
     "metadata": {},
     "output_type": "execute_result"
    }
   ],
   "source": [
    "# 创建 prompt\n",
    "prompt = HumanMessage(\n",
    "    content = augment_prompt(query+\"请用中文回答。\")\n",
    ")\n",
    "message.append(prompt)\n",
    "res = chat(message)\n",
    "\n",
    "res"
   ]
  }
 ],
 "metadata": {
  "kernelspec": {
   "display_name": "testTTs",
   "language": "python",
   "name": "python3"
  },
  "language_info": {
   "codemirror_mode": {
    "name": "ipython",
    "version": 3
   },
   "file_extension": ".py",
   "mimetype": "text/x-python",
   "name": "python",
   "nbconvert_exporter": "python",
   "pygments_lexer": "ipython3",
   "version": "3.10.14"
  }
 },
 "nbformat": 4,
 "nbformat_minor": 2
}
